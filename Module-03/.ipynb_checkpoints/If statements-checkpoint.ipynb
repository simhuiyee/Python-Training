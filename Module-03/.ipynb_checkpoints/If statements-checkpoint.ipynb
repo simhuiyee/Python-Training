{
 "cells": [
  {
   "cell_type": "code",
   "execution_count": 10,
   "metadata": {},
   "outputs": [
    {
     "name": "stdout",
     "output_type": "stream",
     "text": [
      "please insert any number\n",
      "1\n",
      "Display x is positive\n"
     ]
    }
   ],
   "source": [
    "print('please insert any number')\n",
    "x=input()\n",
    "x=int(x)\n",
    "      \n",
    "if x==0:\n",
    "    print('Display x is zero')\n",
    "elif x>0:\n",
    "    print('Display x is positive')\n",
    "elif x<0:\n",
    "    print('Display x is negative')\n",
    "else:\n",
    "    print('Finish')\n"
   ]
  },
  {
   "cell_type": "code",
   "execution_count": 11,
   "metadata": {},
   "outputs": [
    {
     "name": "stdout",
     "output_type": "stream",
     "text": [
      "please choose your city\n",
      "0\n",
      "Display x is zero\n"
     ]
    }
   ],
   "source": [
    "print('please key in raw price of goods')\n",
    "P=numbers()\n",
    "\n",
    "print('please choose your country')\n",
    "x=input()\n",
    "x=int(x)\n",
    "\n",
    "if x==0:\n",
    "    print('Display x is zero')\n",
    "elif x>0:\n",
    "    print('Display x is positive')\n",
    "elif x<0:\n",
    "    print('Display x is negative')\n",
    "else:\n",
    "    print('Finish')"
   ]
  },
  {
   "cell_type": "code",
   "execution_count": null,
   "metadata": {},
   "outputs": [],
   "source": []
  }
 ],
 "metadata": {
  "kernelspec": {
   "display_name": "Python 3",
   "language": "python",
   "name": "python3"
  },
  "language_info": {
   "codemirror_mode": {
    "name": "ipython",
    "version": 3
   },
   "file_extension": ".py",
   "mimetype": "text/x-python",
   "name": "python",
   "nbconvert_exporter": "python",
   "pygments_lexer": "ipython3",
   "version": "3.8.8"
  }
 },
 "nbformat": 4,
 "nbformat_minor": 4
}
